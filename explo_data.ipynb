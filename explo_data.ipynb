{
 "cells": [
  {
   "cell_type": "code",
   "execution_count": 2,
   "id": "88afcd33",
   "metadata": {},
   "outputs": [
    {
     "name": "stdout",
     "output_type": "stream",
     "text": [
      "Contenu de 'ai-data/managed-inference/index.mdx' ajouté.\n",
      "Contenu de 'ai-data/managed-inference/concepts.mdx' ajouté.\n",
      "Contenu de 'ai-data/managed-inference/quickstart.mdx' ajouté.\n",
      "Contenu de 'ai-data/managed-inference/reference-content/bge-multilingual-gemma2.mdx' ajouté.\n",
      "Contenu de 'ai-data/managed-inference/reference-content/llama-3.1-8b-instruct.mdx' ajouté.\n",
      "Contenu de 'ai-data/managed-inference/reference-content/llama-3.1-70b-instruct.mdx' ajouté.\n",
      "Contenu de 'ai-data/managed-inference/reference-content/pixtral-12b-2409.mdx' ajouté.\n",
      "Contenu de 'ai-data/managed-inference/reference-content/data-privacy-security-scaleway-ai-services.mdx' ajouté.\n",
      "Contenu de 'ai-data/managed-inference/reference-content/llama-3-8b-instruct.mdx' ajouté.\n",
      "Contenu de 'ai-data/managed-inference/reference-content/mixtral-8x7b-instruct-v0.1.mdx' ajouté.\n",
      "Contenu de 'ai-data/managed-inference/reference-content/index.mdx' ajouté.\n",
      "Contenu de 'ai-data/managed-inference/reference-content/sentence-t5-xxl.mdx' ajouté.\n",
      "Contenu de 'ai-data/managed-inference/reference-content/moshika-0.1-8b.mdx' ajouté.\n",
      "Contenu de 'ai-data/managed-inference/reference-content/function-calling-support.mdx' ajouté.\n",
      "Contenu de 'ai-data/managed-inference/reference-content/mistral-nemo-instruct-2407.mdx' ajouté.\n",
      "Contenu de 'ai-data/managed-inference/reference-content/llama-3.3-70b-instruct.mdx' ajouté.\n",
      "Contenu de 'ai-data/managed-inference/reference-content/moshiko-0.1-8b.mdx' ajouté.\n",
      "Contenu de 'ai-data/managed-inference/reference-content/llama-3-70b-instruct.mdx' ajouté.\n",
      "Contenu de 'ai-data/managed-inference/reference-content/molmo-72b-0924.mdx' ajouté.\n",
      "Contenu de 'ai-data/managed-inference/reference-content/mistral-7b-instruct-v0.3.mdx' ajouté.\n",
      "Contenu de 'ai-data/managed-inference/reference-content/wizardlm-70b-v1.0.mdx' ajouté.\n",
      "Contenu de 'ai-data/managed-inference/reference-content/qwen2.5-coder-32b-instruct.mdx' ajouté.\n",
      "Contenu de 'ai-data/managed-inference/reference-content/llama-3.1-nemotron-70b-instruct.mdx' ajouté.\n",
      "Contenu de 'ai-data/managed-inference/reference-content/openai-compatibility.mdx' ajouté.\n",
      "Contenu de 'ai-data/managed-inference/how-to/manage-allowed-ips.mdx' ajouté.\n",
      "Contenu de 'ai-data/managed-inference/how-to/index.mdx' ajouté.\n",
      "Contenu de 'ai-data/managed-inference/how-to/create-deployment.mdx' ajouté.\n",
      "Contenu de 'ai-data/managed-inference/how-to/delete-deployment.mdx' ajouté.\n",
      "Contenu de 'ai-data/managed-inference/how-to/monitor-deployment.mdx' ajouté.\n",
      "Contenu de 'ai-data/managed-inference/how-to/managed-inference-with-private-network.mdx' ajouté.\n",
      "\n",
      "Tous les fichiers .mdx ont été assemblés dans 'data/managed-inference.md'.\n"
     ]
    }
   ],
   "source": [
    "import os\n",
    "\n",
    "def assemble_mdx_files(root_dir, output_file_name=\"assembled_mdx_content.md\"):\n",
    "    \"\"\"\n",
    "    Parcourt un répertoire de manière récursive, récupère le contenu de tous les\n",
    "    fichiers .mdx, et les assemble dans un seul fichier.\n",
    "\n",
    "    Args:\n",
    "        root_dir (str): Le chemin du répertoire racine à parcourir.\n",
    "        output_file_name (str): Le nom du fichier de sortie où le contenu sera assemblé.\n",
    "    \"\"\"\n",
    "    try:\n",
    "        with open(output_file_name, 'w', encoding='utf-8') as outfile:\n",
    "            for dirpath, dirnames, filenames in os.walk(root_dir):\n",
    "                for filename in filenames:\n",
    "                    if filename.endswith(\".mdx\"):\n",
    "                        filepath = os.path.join(dirpath, filename)\n",
    "                        try:\n",
    "                            with open(filepath, 'r', encoding='utf-8') as infile:\n",
    "                                outfile.write(f\"--- Fichier: {filepath} ---\\n\\n\")\n",
    "                                outfile.write(infile.read())\n",
    "                                outfile.write(\"\\n\\n\")\n",
    "                            print(f\"Contenu de '{filepath}' ajouté.\")\n",
    "                        except Exception as e:\n",
    "                            print(f\"Erreur lors de la lecture du fichier '{filepath}': {e}\")\n",
    "            print(f\"\\nTous les fichiers .mdx ont été assemblés dans '{output_file_name}'.\")\n",
    "\n",
    "    except Exception as e:\n",
    "        print(f\"Erreur lors de la création ou de l'écriture du fichier de sortie: {e}\")\n",
    "\n",
    "if __name__ == \"__main__\":\n",
    "    # Spécifiez le dossier racine où se trouvent vos fichiers .mdx\n",
    "    # Remplacez 'votre_dossier_racine' par le chemin réel de votre dossier\n",
    "    # Par exemple, pour le dossier courant, utilisez '.'\n",
    "    # Pour un dossier spécifique, utilisez 'C:/Users/VotreNom/Documents/mes_mdx' ou '/home/votre_nom/mes_mdx'\n",
    "    target_directory = \"ai-data/managed-inference\"  # Le dossier courant\n",
    "\n",
    "    # Spécifiez le nom du fichier de sortie\n",
    "    output_filename = \"data/managed-inference.md\"\n",
    "\n",
    "    assemble_mdx_files(target_directory, output_filename)"
   ]
  },
  {
   "cell_type": "code",
   "execution_count": null,
   "id": "15dee4e7",
   "metadata": {},
   "outputs": [],
   "source": []
  }
 ],
 "metadata": {
  "kernelspec": {
   "display_name": "ask_product_doc",
   "language": "python",
   "name": "python3"
  },
  "language_info": {
   "codemirror_mode": {
    "name": "ipython",
    "version": 3
   },
   "file_extension": ".py",
   "mimetype": "text/x-python",
   "name": "python",
   "nbconvert_exporter": "python",
   "pygments_lexer": "ipython3",
   "version": "3.11.11"
  }
 },
 "nbformat": 4,
 "nbformat_minor": 5
}
