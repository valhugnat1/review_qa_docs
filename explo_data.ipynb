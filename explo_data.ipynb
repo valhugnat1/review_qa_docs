{
 "cells": [
  {
   "cell_type": "code",
   "execution_count": 4,
   "id": "88afcd33",
   "metadata": {},
   "outputs": [
    {
     "name": "stdout",
     "output_type": "stream",
     "text": [
      "Contenu de 'docs-content/pages/generative-apis/index.mdx' ajouté.\n",
      "Contenu de 'docs-content/pages/generative-apis/concepts.mdx' ajouté.\n",
      "Contenu de 'docs-content/pages/generative-apis/faq.mdx' ajouté.\n",
      "Contenu de 'docs-content/pages/generative-apis/quickstart.mdx' ajouté.\n",
      "Contenu de 'docs-content/pages/generative-apis/reference-content/index.mdx' ajouté.\n",
      "Contenu de 'docs-content/pages/generative-apis/reference-content/integrating-generative-apis-with-popular-tools.mdx' ajouté.\n",
      "Contenu de 'docs-content/pages/generative-apis/reference-content/rate-limits.mdx' ajouté.\n",
      "Contenu de 'docs-content/pages/generative-apis/reference-content/model-lifecycle.mdx' ajouté.\n",
      "Contenu de 'docs-content/pages/generative-apis/reference-content/supported-models.mdx' ajouté.\n",
      "Contenu de 'docs-content/pages/generative-apis/reference-content/data-privacy.mdx' ajouté.\n",
      "Contenu de 'docs-content/pages/generative-apis/reference-content/adding-ai-to-zed-ide.mdx' ajouté.\n",
      "Contenu de 'docs-content/pages/generative-apis/reference-content/adding-ai-to-vscode-using-continue.mdx' ajouté.\n",
      "Contenu de 'docs-content/pages/generative-apis/reference-content/adding-ai-to-intellij-using-continue.mdx' ajouté.\n",
      "Contenu de 'docs-content/pages/generative-apis/api-cli/index.mdx' ajouté.\n",
      "Contenu de 'docs-content/pages/generative-apis/api-cli/using-models-api.mdx' ajouté.\n",
      "Contenu de 'docs-content/pages/generative-apis/api-cli/using-chat-api.mdx' ajouté.\n",
      "Contenu de 'docs-content/pages/generative-apis/api-cli/using-embeddings-api.mdx' ajouté.\n",
      "Contenu de 'docs-content/pages/generative-apis/api-cli/using-generative-apis.mdx' ajouté.\n",
      "Contenu de 'docs-content/pages/generative-apis/api-cli/understanding-errors.mdx' ajouté.\n",
      "Contenu de 'docs-content/pages/generative-apis/troubleshooting/index.mdx' ajouté.\n",
      "Contenu de 'docs-content/pages/generative-apis/troubleshooting/fixing-common-issues.mdx' ajouté.\n",
      "Contenu de 'docs-content/pages/generative-apis/how-to/index.mdx' ajouté.\n",
      "Contenu de 'docs-content/pages/generative-apis/how-to/use-function-calling.mdx' ajouté.\n",
      "Contenu de 'docs-content/pages/generative-apis/how-to/query-vision-models.mdx' ajouté.\n",
      "Contenu de 'docs-content/pages/generative-apis/how-to/query-language-models.mdx' ajouté.\n",
      "Contenu de 'docs-content/pages/generative-apis/how-to/use-structured-outputs.mdx' ajouté.\n",
      "Contenu de 'docs-content/pages/generative-apis/how-to/query-embedding-models.mdx' ajouté.\n",
      "Contenu de 'docs-content/pages/generative-apis/how-to/query-code-models.mdx' ajouté.\n",
      "\n",
      "Tous les fichiers .mdx ont été assemblés dans 'contenu_assemble.md'.\n"
     ]
    }
   ],
   "source": [
    "import os\n",
    "\n",
    "def assemble_mdx_files(root_dir, output_file_name=\"assembled_mdx_content.md\"):\n",
    "    \"\"\"\n",
    "    Parcourt un répertoire de manière récursive, récupère le contenu de tous les\n",
    "    fichiers .mdx, et les assemble dans un seul fichier.\n",
    "\n",
    "    Args:\n",
    "        root_dir (str): Le chemin du répertoire racine à parcourir.\n",
    "        output_file_name (str): Le nom du fichier de sortie où le contenu sera assemblé.\n",
    "    \"\"\"\n",
    "    try:\n",
    "        with open(output_file_name, 'w', encoding='utf-8') as outfile:\n",
    "            for dirpath, dirnames, filenames in os.walk(root_dir):\n",
    "                for filename in filenames:\n",
    "                    if filename.endswith(\".mdx\"):\n",
    "                        filepath = os.path.join(dirpath, filename)\n",
    "                        try:\n",
    "                            with open(filepath, 'r', encoding='utf-8') as infile:\n",
    "                                outfile.write(f\"--- Fichier: {filepath} ---\\n\\n\")\n",
    "                                outfile.write(infile.read())\n",
    "                                outfile.write(\"\\n\\n\")\n",
    "                            print(f\"Contenu de '{filepath}' ajouté.\")\n",
    "                        except Exception as e:\n",
    "                            print(f\"Erreur lors de la lecture du fichier '{filepath}': {e}\")\n",
    "            print(f\"\\nTous les fichiers .mdx ont été assemblés dans '{output_file_name}'.\")\n",
    "\n",
    "    except Exception as e:\n",
    "        print(f\"Erreur lors de la création ou de l'écriture du fichier de sortie: {e}\")\n",
    "\n",
    "if __name__ == \"__main__\":\n",
    "    # Spécifiez le dossier racine où se trouvent vos fichiers .mdx\n",
    "    # Remplacez 'votre_dossier_racine' par le chemin réel de votre dossier\n",
    "    # Par exemple, pour le dossier courant, utilisez '.'\n",
    "    # Pour un dossier spécifique, utilisez 'C:/Users/VotreNom/Documents/mes_mdx' ou '/home/votre_nom/mes_mdx'\n",
    "    target_directory = \"docs-content/pages/generative-apis\"  # Le dossier courant\n",
    "\n",
    "    # Spécifiez le nom du fichier de sortie\n",
    "    output_filename = \"contenu_assemble.md\"\n",
    "\n",
    "    assemble_mdx_files(target_directory, output_filename)"
   ]
  },
  {
   "cell_type": "code",
   "execution_count": null,
   "id": "15dee4e7",
   "metadata": {},
   "outputs": [],
   "source": []
  }
 ],
 "metadata": {
  "kernelspec": {
   "display_name": "ask_product_doc",
   "language": "python",
   "name": "python3"
  },
  "language_info": {
   "codemirror_mode": {
    "name": "ipython",
    "version": 3
   },
   "file_extension": ".py",
   "mimetype": "text/x-python",
   "name": "python",
   "nbconvert_exporter": "python",
   "pygments_lexer": "ipython3",
   "version": "3.11.11"
  }
 },
 "nbformat": 4,
 "nbformat_minor": 5
}
